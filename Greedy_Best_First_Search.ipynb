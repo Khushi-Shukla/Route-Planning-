{
  "cells": [
    {
      "cell_type": "code",
      "execution_count": null,
      "id": "d0cbfb2d",
      "metadata": {
        "id": "d0cbfb2d"
      },
      "outputs": [],
      "source": [
        "import queue\n",
        "import time\n",
        "import numpy as np\n",
        "import pandas as pd\n",
        "from random import randint\n",
        "import copy"
      ]
    },
    {
      "cell_type": "code",
      "execution_count": null,
      "id": "7cc8383f",
      "metadata": {
        "id": "7cc8383f"
      },
      "outputs": [],
      "source": [
        "class Node:\n",
        "    def __init__(self, name, h=0, g=0,par=None):\n",
        "        self.name = name\n",
        "        self.h = h\n",
        "        self.g = g\n",
        "        self.par=par\n",
        "\n",
        "    def __lt__(self, other):\n",
        "        if other == None:\n",
        "            return False\n",
        "        return self.h < other.h\n",
        "    \n",
        "    def __eq__(self, other):\n",
        "        if other == None:\n",
        "            return False\n",
        "        return self.name == other.name"
      ]
    },
    {
      "cell_type": "code",
      "execution_count": null,
      "id": "c78fbda7",
      "metadata": {
        "id": "c78fbda7"
      },
      "outputs": [],
      "source": [
        "class Graph:\n",
        "    def __init__(self, graph_dict):\n",
        "        self.graph_dict = graph_dict\n",
        "        self.Path=[]\n",
        "\n",
        "    def neighbors(self, v):\n",
        "        return self.graph_dict[v]\n",
        "\n",
        "    def h(self, n):\n",
        "        return heuristic[n]\n",
        "\n",
        "    def getPath(self, node):\n",
        "        if node.par != None:\n",
        "            self.getPath(node.par)\n",
        "        self.Path.append(node.name)\n",
        "\n",
        "    def BestFirst_Search(self,start, stop):\n",
        "\n",
        "        Open = queue.PriorityQueue()\n",
        "        Closed = queue.PriorityQueue()\n",
        "\n",
        "        Open.put( Node(start) )\n",
        "\n",
        "        while True:\n",
        "            if Open.empty() == True:\n",
        "                print('Can not found!')\n",
        "                return []\n",
        "\n",
        "            node = Open.get() # current node\n",
        "            Closed.put(node)\n",
        "\n",
        "            if node.name == stop:\n",
        "                print('\\nSuccessfull! The solution of Greedy Best-First-Search algorithm is:')\n",
        "                print('Total cost: {}'.format(node.g))\n",
        "                self.getPath(node)\n",
        "\n",
        "                return self.Path\n",
        "\n",
        "            for (child, cost) in self.graph_dict[node.name]:\n",
        "                g = node.g + cost\n",
        "                h = heuristic[child]\n",
        "\n",
        "                tmp = Node(name=child, h=h, g=g)\n",
        "\n",
        "                if (tmp not in Open.queue) and (tmp not in Closed.queue):\n",
        "                    tmp.par= node\n",
        "\n",
        "                    Open.put(tmp)"
      ]
    },
    {
      "cell_type": "code",
      "execution_count": null,
      "id": "2c1d8096",
      "metadata": {
        "id": "2c1d8096"
      },
      "outputs": [],
      "source": [
        "def Input():\n",
        "    global start\n",
        "    global  destination\n",
        "\n",
        "    start ='Guwahati'\n",
        "    destination ='Dibrugarh'"
      ]
    },
    {
      "cell_type": "code",
      "execution_count": null,
      "id": "27b06a16",
      "metadata": {
        "id": "27b06a16"
      },
      "outputs": [],
      "source": [
        "def ToGraph():\n",
        "\n",
        "    global cities_lst\n",
        "    global map\n",
        "    global heuristic\n",
        "    global label\n",
        "    global data1\n",
        "\n",
        "    # travelling cost between adjacent cities\n",
        "    df = pd.read_csv('/content/data/route-info1.csv')\n",
        "    highway_data = df.to_numpy()\n",
        "    fee = highway_data[:, 2:3] * 10 + highway_data[:, 3:4] \n",
        "    highway_fee = np.hstack((highway_data[:, :2], fee))\n",
        "\n",
        "    final_fee = highway_fee\n",
        "\n",
        "    map = dict()\n",
        "    for i in final_fee:\n",
        "        map[i[0]] = map.get(i[0], [])\n",
        "        map[i[0]].append((i[1], i[2]))\n",
        "        map[i[1]] = map.get(i[1], [])\n",
        "        map[i[1]].append((i[0], i[2]))\n",
        "    # print(map)\n",
        "    cities_lst = map.keys()\n",
        "\n",
        "    # getting heuristics data\n",
        "    df2 = pd.read_csv('/content/data/city-label1.csv', header=None)\n",
        "    da = df2.to_numpy()\n",
        "    da = da.reshape((2, -1))\n",
        "    label = dict()\n",
        "    da = list(da)\n",
        "    for i in range(len(da[0])):\n",
        "        label[da[0][i]] = i\n",
        "    df1 = pd.read_csv( '/content/data/heuristics.csv',header=None)\n",
        "    data1 = df1.to_numpy()"
      ]
    },
    {
      "cell_type": "code",
      "execution_count": null,
      "id": "ecb1ba7b",
      "metadata": {
        "id": "ecb1ba7b"
      },
      "outputs": [],
      "source": [
        "def Solver(): # for a single test with input\n",
        "    solver = Graph(map)\n",
        "    path = solver.BestFirst_Search(start, destination)\n",
        "    print(*path, sep=' --> ')"
      ]
    },
    {
      "cell_type": "code",
      "execution_count": null,
      "id": "1a51dfb1",
      "metadata": {
        "id": "1a51dfb1"
      },
      "outputs": [],
      "source": [
        "\n"
      ]
    },
    {
      "cell_type": "code",
      "execution_count": null,
      "id": "1c233e47",
      "metadata": {
        "id": "1c233e47"
      },
      "outputs": [],
      "source": [
        "def Heuristic(start,destination):\n",
        "    global heuristic\n",
        "    def find_heuristic(start, destination):\n",
        "        if destination not in cities_lst:\n",
        "            raise Exception(\"this city is not included in the map\")\n",
        "        data3 = []\n",
        "        index = label[destination]\n",
        "        for i in label:\n",
        "            data3.append([i, data1[index, label[i]]])\n",
        "        return data3\n",
        "    data4 = find_heuristic(start, destination)\n",
        "    heuristic = dict()\n",
        "    for i in data4:\n",
        "        heuristic[i[0]] = heuristic.get(i[0], 0) + float(i[1] * 10)"
      ]
    },
    {
      "cell_type": "code",
      "execution_count": null,
      "id": "1e76e0e5",
      "metadata": {
        "scrolled": true,
        "colab": {
          "base_uri": "https://localhost:8080/"
        },
        "id": "1e76e0e5",
        "outputId": "90450616-4aa0-438d-b68b-34510428ee22"
      },
      "outputs": [
        {
          "output_type": "stream",
          "name": "stdout",
          "text": [
            "\n",
            "Successfull! The solution of Greedy Best-First-Search algorithm is:\n",
            "Total cost: 6596.6\n",
            "Guwahati --> Jagiroad --> Hojai --> Lamding --> Diphu --> Mariani --> Simaluguri --> Namrup --> Naharkatiya --> Duliajan --> Bordubi --> Tinsukia --> Dibrugarh\n",
            "Total time: 0.004848003387451172\n"
          ]
        }
      ],
      "source": [
        "ToGraph()\n",
        "Input()\n",
        "start_time = time.time()\n",
        "\n",
        "Heuristic(start,destination)\n",
        "\n",
        "Solver()\n",
        "end_time = time.time()\n",
        "print('Total time:', end_time-start_time)"
      ]
    }
  ],
  "metadata": {
    "kernelspec": {
      "display_name": "Python 3",
      "language": "python",
      "name": "python3"
    },
    "language_info": {
      "codemirror_mode": {
        "name": "ipython",
        "version": 3
      },
      "file_extension": ".py",
      "mimetype": "text/x-python",
      "name": "python",
      "nbconvert_exporter": "python",
      "pygments_lexer": "ipython3",
      "version": "3.8.5"
    },
    "colab": {
      "provenance": []
    }
  },
  "nbformat": 4,
  "nbformat_minor": 5
}