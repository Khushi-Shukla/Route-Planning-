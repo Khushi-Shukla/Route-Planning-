{
  "cells": [
    {
      "cell_type": "code",
      "execution_count": null,
      "id": "9ffab892",
      "metadata": {
        "id": "9ffab892"
      },
      "outputs": [],
      "source": [
        "import numpy as np\n",
        "import pandas as pd\n",
        "import time\n",
        "from random import randint\n",
        "# import time"
      ]
    },
    {
      "cell_type": "code",
      "execution_count": null,
      "id": "7ad4313d",
      "metadata": {
        "id": "7ad4313d"
      },
      "outputs": [],
      "source": [
        "import copy\n",
        "class Graph:\n",
        "    def __init__(self, graph_dict):\n",
        "        self.graph_dict = graph_dict\n",
        " \n",
        "    def neighbors(self, v):\n",
        "        return self.graph_dict[v]\n",
        " \n",
        "    def h(self, n):\n",
        "        return H(n)\n",
        "    def iterative_deepening_a_star(self,start, goal):\n",
        "        if start not in cities_lst or goal not in cities_lst:\n",
        "            raise Exception('City name incorrect!')\n",
        "        min_fringe=0\n",
        "        threshold=self.h(start)\n",
        "        self.u=0\n",
        "        count_node=[]\n",
        "        def IDA(start, goal, threshold, min_fringe):\n",
        "            global path_cost\n",
        "            global par\n",
        "            global real_path\n",
        "            global par1\n",
        "            global s\n",
        "            global u\n",
        "            global count\n",
        "            global visited\n",
        "            global visited1\n",
        "            global min_goal\n",
        "            li=0\n",
        "            count=0\n",
        "            s=0\n",
        "            par=dict()\n",
        "            visited=[]\n",
        "            visited1=[]\n",
        "            stack=[[start,0]]\n",
        "            min_goal=float('inf')\n",
        "            while len(stack)!=0:\n",
        "                if (len(stack))<=li:\n",
        "                    visited.pop()\n",
        "                node, cost1=stack.pop()\n",
        "                \n",
        "                visited.append((node))\n",
        "                li=len(stack)\n",
        "                if node==goal:\n",
        "                    s+=1\n",
        "                    # save the shortest route to destination\n",
        "                    if cost1<min_goal:\n",
        "                        min_goal=cost1\n",
        "                        par1=par.copy()\n",
        "                #check whether its neighbor's value of f surpass threshold\n",
        "                for m, weight in self.neighbors(node): \n",
        "                    p=(m,weight)\n",
        "                    \n",
        "                    if p not in visited:\n",
        "                        \n",
        "                        count+=1\n",
        "                        path_cost=cost1+weight+self.h(m)\n",
        "                        \n",
        "#                         print('FF: ', m, path_cost)\n",
        "                        #if f(neighbor)> threshold => put it in the fringe, the new threshold will be the smallest value in the fringe\n",
        "                        if path_cost> threshold:\n",
        "                            if path_cost<min_fringe:\n",
        "                                min_fringe=path_cost                            \n",
        "                        else:\n",
        "                            par[(m, path_cost-self.h(m))] = (node,cost1)\n",
        "                            stack.append([m,path_cost-self.h(m)])\n",
        "                            \n",
        "            self.u=min_fringe\n",
        "        while True:      \n",
        "            min_fringe=float('inf')\n",
        "            IDA(start,goal,threshold, min_fringe)\n",
        "            count_node.append(count)\n",
        "            threshold=self.u\n",
        "            if s!=0:\n",
        "                break     \n",
        "        print('Number of nodes expanded in each iteration: ', count_node)\n",
        "        print('Total nodes expanded: ', sum(count_node))\n",
        "        curr = (goal, min_goal)\n",
        "        #print path\n",
        "        lst=[]\n",
        "        while (curr != None):\n",
        "            lst.append(curr)\n",
        "            if curr==(start,0):\n",
        "                break\n",
        "            curr = par1[curr]\n",
        "        lst.reverse()\n",
        "        lst1=[i[0] for i in lst]\n",
        "        s1=0\n",
        "        for i in range(len(lst1)-1):\n",
        "            for j in map[lst1[i]]:\n",
        "                if j[0]==lst1[i+1]:\n",
        "                    s1+=j[1]\n",
        "        print('Total cost: ',s1, 'Rupees')  \n",
        "        print('Path: ')\n",
        "        return lst1"
      ]
    },
    {
      "cell_type": "code",
      "execution_count": null,
      "id": "4fe6cf3e",
      "metadata": {
        "colab": {
          "base_uri": "https://localhost:8080/"
        },
        "id": "4fe6cf3e",
        "outputId": "603ae51b-b5a6-4fc1-a2a1-c812537609f0"
      },
      "outputs": [
        {
          "output_type": "stream",
          "name": "stdout",
          "text": [
            "[['Guwahati' 'Rangia' 345.0]\n",
            " ['Guwahati' 'Mangaldai' 448.0]\n",
            " ['Guwahati' 'Jagiroad' 481.0]\n",
            " ['Rangia' 'Udalguri' 592.0]\n",
            " ['Udalguri' 'Mazbat' 170.0]]\n"
          ]
        }
      ],
      "source": [
        "# travelling cost between adjacent cities\n",
        "df=pd.read_csv('/content/data/route-info1.csv')\n",
        "data=df.to_numpy()\n",
        "highway_data=data\n",
        "fee=highway_data[:,2:3]*10+highway_data[:,3:4]\n",
        "highway_fee=np.hstack((highway_data[:,:2],fee))\n",
        "#\n",
        "final_fee=highway_fee\n",
        "print(final_fee[0:5])"
      ]
    },
    {
      "cell_type": "code",
      "execution_count": null,
      "id": "33e21108",
      "metadata": {
        "colab": {
          "base_uri": "https://localhost:8080/"
        },
        "id": "33e21108",
        "outputId": "82f0fdc5-8a9b-40f3-9667-2c6bc46ea1f4"
      },
      "outputs": [
        {
          "output_type": "stream",
          "name": "stdout",
          "text": [
            "{'Guwahati': [('Rangia', 345.0), ('Mangaldai', 448.0), ('Jagiroad', 481.0)], 'Rangia': [('Guwahati', 345.0), ('Udalguri', 592.0)], 'Mangaldai': [('Guwahati', 448.0), ('Nagaon', 528.0)], 'Jagiroad': [('Guwahati', 481.0), ('Hojai', 708.1)], 'Udalguri': [('Rangia', 592.0), ('Mazbat', 170.0)], 'Mazbat': [('Udalguri', 170.0), ('Rangapara', 359.0)], 'Rangapara': [('Mazbat', 359.0), ('Biswanath Charali', 453.29999999999995)], 'Biswanath Charali': [('Rangapara', 453.29999999999995), ('Gohpur', 493.7)], 'Gohpur': [('Biswanath Charali', 493.7), ('Bihpuria', 350.5)], 'Bihpuria': [('Gohpur', 350.5), ('North Lakhimpur', 294.7)], 'North Lakhimpur': [('Bihpuria', 294.7), ('Gogamukh', 318.40000000000003)], 'Gogamukh': [('North Lakhimpur', 318.40000000000003), ('Dhemaji', 250.6)], 'Dhemaji': [('Gogamukh', 250.6), ('Silapathar', 209.7)], 'Silapathar': [('Dhemaji', 209.7), ('Dibrugarh', 237.39999999999998)], 'Dibrugarh': [('Silapathar', 237.39999999999998), ('Tinsukia', 472.4), ('Moranhat', 330.0)], 'Hojai': [('Jagiroad', 708.1), ('Lamding', 505.4)], 'Lamding': [('Hojai', 505.4), ('Diphu', 319.20000000000005)], 'Diphu': [('Lamding', 319.20000000000005), ('Mariani', 1244.2)], 'Mariani': [('Diphu', 1244.2), ('Simaluguri', 675.5)], 'Simaluguri': [('Mariani', 675.5), ('Namrup', 1621.1000000000001)], 'Namrup': [('Simaluguri', 1621.1000000000001), ('Naharkatiya', 146.5)], 'Naharkatiya': [('Namrup', 146.5), ('Duliajan', 148.1)], 'Duliajan': [('Naharkatiya', 148.1), ('Bordubi', 161.10000000000002)], 'Bordubi': [('Duliajan', 161.10000000000002), ('Tinsukia', 114.0)], 'Tinsukia': [('Bordubi', 114.0), ('Dibrugarh', 472.4)], 'Nagaon': [('Mangaldai', 528.0), ('Bokakhat', 957.9000000000001)], 'Bokakhat': [('Nagaon', 957.9000000000001), ('Dergaon', 399.2)], 'Dergaon': [('Bokakhat', 399.2), ('Jorhat', 219.5)], 'Jorhat': [('Dergaon', 219.5), ('Sibsagar', 515.3)], 'Sibsagar': [('Jorhat', 515.3), ('Dimow', 178.9)], 'Dimow': [('Sibsagar', 178.9), ('Moranhat', 187.3)], 'Moranhat': [('Dimow', 187.3), ('Dibrugarh', 330.0)]}\n"
          ]
        }
      ],
      "source": [
        "map=dict()\n",
        "for i in final_fee:\n",
        "    map[i[0]]=map.get(i[0],[])\n",
        "    map[i[0]].append((i[1],i[2]))\n",
        "    map[i[1]]=map.get(i[1],[])\n",
        "    map[i[1]].append((i[0],i[2]))\n",
        "cities_lst=map.keys()\n",
        "print(map)"
      ]
    },
    {
      "cell_type": "code",
      "execution_count": null,
      "id": "dee5e8bd",
      "metadata": {
        "scrolled": true,
        "id": "dee5e8bd"
      },
      "outputs": [],
      "source": [
        "# getting heuristics data\n",
        "df2=pd.read_csv('/content/data/city-label1.csv', header=None)\n",
        "da=df2.to_numpy()\n",
        "da=da.reshape((2,-1))\n",
        "label=dict()\n",
        "da=list(da)\n",
        "for i in range(len(da[0])):\n",
        "    label[da[0][i]]=i\n",
        "df1=pd.read_csv('/content/data/heuristics.csv', header=None)\n",
        "data1=df1.to_numpy()"
      ]
    },
    {
      "cell_type": "code",
      "execution_count": null,
      "id": "73d4f0fd",
      "metadata": {
        "colab": {
          "base_uri": "https://localhost:8080/"
        },
        "id": "73d4f0fd",
        "outputId": "72f603bd-44cd-4137-e6f8-bece7ef923ca"
      },
      "outputs": [
        {
          "output_type": "stream",
          "name": "stdout",
          "text": [
            "Heuristics\n",
            "{'Guwahati': 8400.0, 'Rangia': 8240.0, 'Mangaldai': 7620.0, 'Udalguri': 6600.0, 'Mazbat': 5530.0, 'Rangapara': 5530.0, 'Biswanath Charali': 6050.0, 'Gohpur': 5220.0, 'Bihpuria': 6080.0, 'North Lakhimpur': 6550.0, 'Gogamukh': 4890.0, 'Dhemaji': 3940.0, 'Silapathar': 800.0, 'Jagiroad': 620.0, 'Hojai': 2340.0, 'Lamding': 2330.0, 'Diphu': 3520.0, 'Mariani': 4370.0, 'Simaluguri': 4880.0, 'Namrup': 4600.0, 'Naharkatiya': 5910.0, 'Duliajan': 5900.0, 'Bordubi': 5730.0, 'Tinsukia': 6490.0, 'Nagaon': 6460.0, 'Bokakhat': 6920.0, 'Dergaon': 7210.0, 'Jorhat': 7400.0, 'Sibsagar': 6120.0, 'Dimow': 8360.0, 'Moranhat': 7000.0, 'Dibrugarh': 0.0}\n"
          ]
        }
      ],
      "source": [
        "# find straight-line distance from start city to other cities\n",
        "start='Guwahati'\n",
        "destination='Dibrugarh'\n",
        "def find_heuristic(start, destination):\n",
        "    if destination not in cities_lst:\n",
        "        raise Exception(\"this city is not included in the map\")\n",
        "    data3=[]\n",
        "    index=label[destination]\n",
        "    for i in label:\n",
        "        data3.append([i, data1[index,label[i]]])\n",
        "    return data3\n",
        "data4=find_heuristic(start, destination)\n",
        "print('Heuristics')\n",
        "\n",
        "h=dict()\n",
        "for i in data4:\n",
        "    h[i[0]]=h.get(i[0],0 )+float(i[1]*10)\n",
        "def H(n):\n",
        "    return h[n]  \n",
        "print(h)"
      ]
    },
    {
      "cell_type": "markdown",
      "id": "a062dd13",
      "metadata": {
        "id": "a062dd13"
      },
      "source": [
        "IDA* takes a really long time to solve complicated (huge branching factor) paths, thus we will not generate 50 instances at once for the demo video."
      ]
    },
    {
      "cell_type": "code",
      "execution_count": null,
      "id": "f78e66ab",
      "metadata": {
        "id": "f78e66ab",
        "colab": {
          "base_uri": "https://localhost:8080/"
        },
        "outputId": "d4fd070c-037a-455c-ca3b-9f5a3a79e7ee"
      },
      "outputs": [
        {
          "output_type": "stream",
          "name": "stdout",
          "text": [
            "Number of nodes expanded in each iteration:  [501, 533, 535, 541, 557, 561, 563, 567, 575, 579, 639, 647, 679, 689, 691, 699, 727, 729, 731, 735, 739, 745, 761, 765, 771, 779, 787, 789, 799, 807, 811, 813, 817, 821, 833, 835, 839, 841, 865, 889, 893, 917, 919, 927, 929, 935, 945, 947, 951, 971, 979, 981, 997, 999, 1005, 1007, 1015, 1023, 1031, 1051, 1053, 1055, 1057, 1061, 1077, 1083, 1091, 1093, 1095, 1111, 1131, 1143, 1151, 1153, 1155, 1157, 1161, 1662, 1664, 1696, 1704, 1706, 1710, 1728, 1734, 1754, 1758, 1762, 1766, 1768, 1772, 1780, 1804, 1806, 1814, 1818, 1830, 1832, 1834, 1836, 1840, 1844, 1846, 1850, 1854, 1878, 1886, 1892, 1908, 1916, 1924, 1956, 1964, 1972, 1974, 1976, 1978, 2010, 2038, 2046, 2050, 2134, 2138, 2140, 2142, 2148, 2156, 2160, 2164, 2180, 2196, 2206, 2208, 2709, 2715, 2723, 2739, 2741, 2777, 2779, 2787, 2795, 2801, 2803, 2809, 2811, 2813, 2817, 2821, 2827, 2847, 2855, 2863, 2865, 2873, 2897, 3398, 3406, 3424, 3428, 3436, 3452, 3460, 3476, 3484, 3490, 3502, 3512, 3514, 3518, 3546, 3558, 3562, 3566, 3568, 3572, 3578, 3582, 3584, 3592, 3600, 3624, 3626, 3630, 3634, 3638, 3656, 3660, 3662, 3670, 3678, 3694, 3700, 3702, 3704, 3712, 3716, 3724, 3726, 3730, 3786, 3810, 3816, 3820, 3828, 3836, 3840, 3902, 3904, 3912, 3952, 3958, 3960, 3962, 3970, 3986, 4002, 4012, 4014, 4022, 4024, 4032, 4034, 4036, 4038, 4074, 4076, 4078, 4092, 4102, 4122, 4130, 4146, 4178, 4182, 4184, 4192, 4196, 4198, 4206, 4218, 4222, 4226, 4228, 4232, 4236, 4240, 4244, 4250, 4310, 4318, 4320, 4326, 4334, 4342, 4350, 4366, 4382, 4386, 4396, 4398, 4404, 4406, 4416, 4440, 4444, 4452, 4460, 4496, 4500, 4502, 4508, 4516, 4518, 4522, 4528, 4534, 4536, 4538, 4542, 4546, 4548, 5967]\n",
            "Total nodes expanded:  747365\n",
            "Total cost:  4074.2999999999997 Rupees\n",
            "Path: \n",
            "Guwahati --> Rangia --> Udalguri --> Mazbat --> Rangapara --> Biswanath Charali --> Gohpur --> Bihpuria --> North Lakhimpur --> Gogamukh --> Dhemaji --> Silapathar --> Dibrugarh\n",
            "time:  10.637887477874756\n"
          ]
        }
      ],
      "source": [
        "# output\n",
        "begin=time.time()\n",
        "solver=Graph(map)\n",
        "path1=solver.iterative_deepening_a_star(start,destination)\n",
        "print(*path1, sep=' --> ')\n",
        "end=time.time()\n",
        "print('time: ',end - begin)"
      ]
    },
    {
      "cell_type": "code",
      "execution_count": null,
      "id": "95b23971",
      "metadata": {
        "id": "95b23971"
      },
      "outputs": [],
      "source": []
    }
  ],
  "metadata": {
    "kernelspec": {
      "display_name": "Python 3",
      "language": "python",
      "name": "python3"
    },
    "language_info": {
      "codemirror_mode": {
        "name": "ipython",
        "version": 3
      },
      "file_extension": ".py",
      "mimetype": "text/x-python",
      "name": "python",
      "nbconvert_exporter": "python",
      "pygments_lexer": "ipython3",
      "version": "3.8.5"
    },
    "colab": {
      "provenance": []
    }
  },
  "nbformat": 4,
  "nbformat_minor": 5
}